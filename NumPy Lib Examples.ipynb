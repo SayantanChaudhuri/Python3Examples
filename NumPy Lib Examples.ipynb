{
 "cells": [
  {
   "cell_type": "markdown",
   "metadata": {},
   "source": [
    "## NumPy is Linear Algebra Library for Python\n",
    "\n",
    "### Types:\n",
    " \n",
    "* **Vectors**  - **1-d Arrays**\n",
    "* **Matrices** - **2-d Arrays**"
   ]
  },
  {
   "cell_type": "code",
   "execution_count": 1,
   "metadata": {},
   "outputs": [],
   "source": [
    "import numpy as np"
   ]
  },
  {
   "cell_type": "code",
   "execution_count": 2,
   "metadata": {},
   "outputs": [
    {
     "name": "stdout",
     "output_type": "stream",
     "text": [
      "[1 2 3]\n"
     ]
    }
   ],
   "source": [
    "my_list_1d = [1,2,3]  # Single Dimensional Array\n",
    "\n",
    "\n",
    "\n",
    "array_1d = np.array (my_list_1d)  # Casting to array\n",
    "\n",
    "print(array_1d)"
   ]
  },
  {
   "cell_type": "code",
   "execution_count": 3,
   "metadata": {},
   "outputs": [
    {
     "name": "stdout",
     "output_type": "stream",
     "text": [
      "[[1 2 3]\n",
      " [4 5 6]\n",
      " [7 8 9]]\n"
     ]
    }
   ],
   "source": [
    "my_mat = [[1,2,3], [4,5,6], [7,8,9]]\n",
    "\n",
    "mat_2d = np.array(my_mat)\n",
    "\n",
    "print(mat_2d)"
   ]
  },
  {
   "cell_type": "code",
   "execution_count": 4,
   "metadata": {},
   "outputs": [
    {
     "data": {
      "text/plain": [
       "array([ 0,  2,  4,  6,  8, 10])"
      ]
     },
     "execution_count": 4,
     "metadata": {},
     "output_type": "execute_result"
    }
   ],
   "source": [
    "np.arange(0, 11, 2) # Start, End (excluded), step"
   ]
  },
  {
   "cell_type": "code",
   "execution_count": 5,
   "metadata": {},
   "outputs": [
    {
     "data": {
      "text/plain": [
       "array([0., 0., 0.])"
      ]
     },
     "execution_count": 5,
     "metadata": {},
     "output_type": "execute_result"
    }
   ],
   "source": [
    "np.zeros(3)"
   ]
  },
  {
   "cell_type": "code",
   "execution_count": 6,
   "metadata": {},
   "outputs": [
    {
     "data": {
      "text/plain": [
       "array([[0., 0., 0.],\n",
       "       [0., 0., 0.],\n",
       "       [0., 0., 0.]])"
      ]
     },
     "execution_count": 6,
     "metadata": {},
     "output_type": "execute_result"
    }
   ],
   "source": [
    "np.zeros((3, 3))"
   ]
  },
  {
   "cell_type": "code",
   "execution_count": 7,
   "metadata": {},
   "outputs": [
    {
     "data": {
      "text/plain": [
       "array([[1., 1., 1., 1., 1.],\n",
       "       [1., 1., 1., 1., 1.]])"
      ]
     },
     "execution_count": 7,
     "metadata": {},
     "output_type": "execute_result"
    }
   ],
   "source": [
    "np.ones((2, 5))"
   ]
  },
  {
   "cell_type": "code",
   "execution_count": 8,
   "metadata": {},
   "outputs": [
    {
     "data": {
      "text/plain": [
       "array([0.        , 0.55555556, 1.11111111, 1.66666667, 2.22222222,\n",
       "       2.77777778, 3.33333333, 3.88888889, 4.44444444, 5.        ])"
      ]
     },
     "execution_count": 8,
     "metadata": {},
     "output_type": "execute_result"
    }
   ],
   "source": [
    "np.linspace (0, 5, 10) # same interval (start, stop, total_no)"
   ]
  },
  {
   "cell_type": "code",
   "execution_count": 9,
   "metadata": {},
   "outputs": [
    {
     "data": {
      "text/plain": [
       "array([[1., 0., 0., 0.],\n",
       "       [0., 1., 0., 0.],\n",
       "       [0., 0., 1., 0.],\n",
       "       [0., 0., 0., 1.]])"
      ]
     },
     "execution_count": 9,
     "metadata": {},
     "output_type": "execute_result"
    }
   ],
   "source": [
    "# Identity Matrix\n",
    "\n",
    "# 2d Martix which has same number of columns and rows and 1 in diagonal and 0 are in other places\n",
    "\n",
    "np.eye(4)"
   ]
  },
  {
   "cell_type": "code",
   "execution_count": 10,
   "metadata": {},
   "outputs": [
    {
     "name": "stdout",
     "output_type": "stream",
     "text": [
      "[0.04609846 0.78477073 0.26951003]\n",
      "\n",
      "\n",
      "[[0.20203659 0.47592916 0.69700987 0.20907118 0.35426759]\n",
      " [0.61423122 0.80569042 0.88367952 0.1809794  0.70884371]]\n"
     ]
    }
   ],
   "source": [
    "# Matrix with Random numbers\n",
    "\n",
    "print(np.random.rand(3)) # Single Dimensional Random number array\n",
    "\n",
    "print('\\n')\n",
    "\n",
    "print(np.random.rand(2, 5)) # 2d Random number matrix"
   ]
  },
  {
   "cell_type": "code",
   "execution_count": 11,
   "metadata": {},
   "outputs": [
    {
     "name": "stdout",
     "output_type": "stream",
     "text": [
      "[ 0.24393665 -0.21132035 -1.08095505]\n",
      "\n",
      "\n",
      "[[ 0.52529295 -0.71483893 -0.37784672]\n",
      " [-1.42066355  0.79376696 -0.17335471]\n",
      " [-0.13685964  0.72527053  0.26033497]\n",
      " [-1.19731613  1.27760571 -0.40512846]]\n"
     ]
    }
   ],
   "source": [
    "# Normal Distribution Random number matrix\n",
    "\n",
    "print(np.random.randn(3))\n",
    "\n",
    "print('\\n')\n",
    "\n",
    "print(np.random.randn(4, 3))"
   ]
  },
  {
   "cell_type": "code",
   "execution_count": 12,
   "metadata": {},
   "outputs": [
    {
     "data": {
      "text/plain": [
       "array([69, 51, 38, 91, 81, 57, 86,  7, 96, 86])"
      ]
     },
     "execution_count": 12,
     "metadata": {},
     "output_type": "execute_result"
    }
   ],
   "source": [
    "np.random.randint(1, 100, 10) # Includ"
   ]
  },
  {
   "cell_type": "code",
   "execution_count": 13,
   "metadata": {},
   "outputs": [
    {
     "data": {
      "text/plain": [
       "array([[27, 89],\n",
       "       [74, 53],\n",
       "       [42, 27],\n",
       "       [47, 83],\n",
       "       [33, 51]])"
      ]
     },
     "execution_count": 13,
     "metadata": {},
     "output_type": "execute_result"
    }
   ],
   "source": [
    "np.random.randint(1, 100, 10).reshape(5, 2)"
   ]
  },
  {
   "cell_type": "code",
   "execution_count": 14,
   "metadata": {},
   "outputs": [
    {
     "name": "stdout",
     "output_type": "stream",
     "text": [
      "[24 57 82 72 69 37 56 88 31 64]\n",
      "max value : 88\n",
      "min value : 24\n",
      "index of min value : 0\n",
      "index of max value : 7\n",
      "data type of array : int32\n"
     ]
    }
   ],
   "source": [
    "array = np.random.randint(1, 100, 10)\n",
    "\n",
    "print(array)\n",
    "print('max value : {}'.format(array.max()))\n",
    "print('min value : {}'.format(array.min()))\n",
    "print('index of min value : {}'.format(array.argmin()))\n",
    "print('index of max value : {}'.format(array.argmax()))\n",
    "print('data type of array : {}'.format(array.dtype))"
   ]
  },
  {
   "cell_type": "markdown",
   "metadata": {},
   "source": [
    "### Selection and Indexing"
   ]
  },
  {
   "cell_type": "code",
   "execution_count": 15,
   "metadata": {},
   "outputs": [
    {
     "name": "stdout",
     "output_type": "stream",
     "text": [
      "array : [ 0  1  2  3  4  5  6  7  8  9 10]\n",
      "8th element of array : 8\n",
      "1 to 5 th element of array : [1 2 3 4]\n",
      "0 to 5 th element of array : [0 1 2 3 4]\n",
      "6 to n th element of array : [ 5  6  7  8  9 10]\n"
     ]
    }
   ],
   "source": [
    "array = np.arange(0, 11)\n",
    "\n",
    "print('array : {}'.format(array))\n",
    "print('8th element of array : {}'.format(array[8]))\n",
    "print('1 to 5 th element of array : {}'.format(array[1:5]))\n",
    "print('0 to 5 th element of array : {}'.format(array[:5]))\n",
    "print('6 to n th element of array : {}'.format(array[5:]))"
   ]
  },
  {
   "cell_type": "code",
   "execution_count": 16,
   "metadata": {},
   "outputs": [
    {
     "name": "stdout",
     "output_type": "stream",
     "text": [
      "array copy : [ 0  1  2  3  4  5  6  7  8  9 10]\n"
     ]
    }
   ],
   "source": [
    "array_copy = array.copy()\n",
    "\n",
    "print('array copy : {}'.format(array_copy))"
   ]
  },
  {
   "cell_type": "markdown",
   "metadata": {},
   "source": [
    "### Matrices"
   ]
  },
  {
   "cell_type": "code",
   "execution_count": 17,
   "metadata": {},
   "outputs": [
    {
     "name": "stdout",
     "output_type": "stream",
     "text": [
      "array_2d :\n",
      " [[ 5 10 15]\n",
      " [20 25 30]\n",
      " [35 40 45]]\n",
      "\n",
      "double bracket notation array_2d[2][1] and value is : 40\n",
      "\n",
      "single bracket notation array_2d[2,1] and value is : 40\n",
      "\n"
     ]
    }
   ],
   "source": [
    "array_2d = np.array([[5, 10, 15], [20, 25, 30], [35, 40, 45]])\n",
    "\n",
    "print(f'array_2d :\\n {array_2d}\\n')\n",
    "\n",
    "print(f'double bracket notation array_2d[2][1] and value is : {array_2d[2][1]}\\n')\n",
    "print(f'single bracket notation array_2d[2,1] and value is : {array_2d[2,1]}\\n')"
   ]
  },
  {
   "cell_type": "code",
   "execution_count": 18,
   "metadata": {},
   "outputs": [
    {
     "name": "stdout",
     "output_type": "stream",
     "text": [
      "[ 1  2  3  4  5  6  7  8  9 10]\n",
      "\n",
      "bool_array : [False False False False False  True  True  True  True  True]\n",
      "\n",
      "bool_array of array : [ 6  7  8  9 10]\n",
      "\n",
      "array of less than 3 : [1 2]\n"
     ]
    }
   ],
   "source": [
    "arr = np.arange(1, 11)\n",
    "\n",
    "print(arr)\n",
    "\n",
    "bool_array = arr > 5\n",
    "\n",
    "print('\\nbool_array : {}'.format(bool_array))\n",
    "print('\\nbool_array of array : {}'.format(arr[bool_array]))\n",
    "\n",
    "print('\\narray of less than 3 : {}'.format(arr[arr < 3]))"
   ]
  },
  {
   "cell_type": "markdown",
   "metadata": {},
   "source": [
    "### NumPy Operations"
   ]
  },
  {
   "cell_type": "code",
   "execution_count": 19,
   "metadata": {},
   "outputs": [
    {
     "name": "stdout",
     "output_type": "stream",
     "text": [
      "[ 0  1  2  3  4  5  6  7  8  9 10]\n",
      "\n",
      "addition of array : \n",
      " [ 0  2  4  6  8 10 12 14 16 18 20]\n",
      "\n",
      "addition of 100 with array : \n",
      " [100 101 102 103 104 105 106 107 108 109 110]\n",
      "\n",
      "substraction of array : \n",
      " [ 0  2  4  6  8 10 12 14 16 18 20]\n",
      "\n",
      "multipication of array : \n",
      " [  0   1   4   9  16  25  36  49  64  81 100]\n",
      "\n",
      "division of array : \n",
      " [nan  1.  1.  1.  1.  1.  1.  1.  1.  1.  1.]\n",
      "\n",
      "division of 1 / array : \n",
      " [       inf 1.         0.5        0.33333333 0.25       0.2\n",
      " 0.16666667 0.14285714 0.125      0.11111111 0.1       ]\n",
      "\n",
      "power of array : \n",
      " [  0   1   4   9  16  25  36  49  64  81 100]\n",
      "\n",
      "sqrt of array : \n",
      " [0.         1.         1.41421356 1.73205081 2.         2.23606798\n",
      " 2.44948974 2.64575131 2.82842712 3.         3.16227766]\n",
      "\n",
      "exp of array : \n",
      " [1.00000000e+00 2.71828183e+00 7.38905610e+00 2.00855369e+01\n",
      " 5.45981500e+01 1.48413159e+02 4.03428793e+02 1.09663316e+03\n",
      " 2.98095799e+03 8.10308393e+03 2.20264658e+04]\n",
      "\n",
      "sin of array : \n",
      " [ 0.          0.84147098  0.90929743  0.14112001 -0.7568025  -0.95892427\n",
      " -0.2794155   0.6569866   0.98935825  0.41211849 -0.54402111]\n"
     ]
    },
    {
     "name": "stderr",
     "output_type": "stream",
     "text": [
      "C:\\ProgramData\\Anaconda3\\lib\\site-packages\\ipykernel_launcher.py:12: RuntimeWarning: invalid value encountered in true_divide\n",
      "  if sys.path[0] == '':\n",
      "C:\\ProgramData\\Anaconda3\\lib\\site-packages\\ipykernel_launcher.py:14: RuntimeWarning: divide by zero encountered in true_divide\n",
      "  \n"
     ]
    }
   ],
   "source": [
    "arr = np.arange(0, 11)\n",
    "\n",
    "print(f'{arr}')\n",
    "print(f'\\naddition of array : \\n {arr + arr}')\n",
    "\n",
    "print(f'\\naddition of 100 with array : \\n {arr + 100}')\n",
    "\n",
    "print(f'\\nsubstraction of array : \\n {arr + arr}')\n",
    "\n",
    "print(f'\\nmultipication of array : \\n {arr * arr}')\n",
    "\n",
    "print(f'\\ndivision of array : \\n {arr / arr}') # shows warning of nan\n",
    "\n",
    "print(f'\\ndivision of 1 / array : \\n {1 / arr}') # shows warning of infinity\n",
    "\n",
    "print(f'\\npower of array : \\n { arr ** 2}') \n",
    "\n",
    "print(f'\\nsqrt of array : \\n { np.sqrt(arr)}') \n",
    "\n",
    "print(f'\\nexp of array : \\n { np.exp(arr)}') \n",
    "\n",
    "print(f'\\nsin of array : \\n { np.sin(arr)}') "
   ]
  },
  {
   "cell_type": "code",
   "execution_count": null,
   "metadata": {},
   "outputs": [],
   "source": []
  }
 ],
 "metadata": {
  "kernelspec": {
   "display_name": "Python 3",
   "language": "python",
   "name": "python3"
  },
  "language_info": {
   "codemirror_mode": {
    "name": "ipython",
    "version": 3
   },
   "file_extension": ".py",
   "mimetype": "text/x-python",
   "name": "python",
   "nbconvert_exporter": "python",
   "pygments_lexer": "ipython3",
   "version": "3.7.1"
  }
 },
 "nbformat": 4,
 "nbformat_minor": 2
}
