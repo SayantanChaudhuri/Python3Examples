{
 "cells": [
  {
   "cell_type": "markdown",
   "metadata": {},
   "source": [
    "## Variable\n",
    "\n",
    "### Variable names rules:\n",
    "- names can not start with a number\n",
    "- names can not contain spaces, use _ intead\n",
    "- names can not contain any of these symbols:\n",
    "    - :'\",<>/?|\\!@#%^&*~-+\n",
    "\n",
    "- it's considered best practice (PEP8) that names are lowercase with underscores\n",
    "- avoid using Python built-in keywords like list and str\n",
    "- avoid using the single characters l (lowercase letter el), O (uppercase letter oh) and I (uppercase letter eye) as they can be confused with 1 and 0"
   ]
  },
  {
   "cell_type": "markdown",
   "metadata": {},
   "source": [
    "### Dynamic Typing\n",
    "\n",
    "Python uses dynamic typing, meaning you can reassign variables to different data types\n",
    "\n",
    "**Pros of Dynamic Typing**\n",
    "- very easy to work with\n",
    "-faster development time\n",
    "\n",
    "**Cons of Dynamic Typing**\n",
    "- may result in unexpected bugs!\n",
    "- you need to be aware of **type()**"
   ]
  },
  {
   "cell_type": "markdown",
   "metadata": {},
   "source": [
    "#### Determining variable type with type()\n",
    "Python's built-in **type()** function is used to check variable's type. Common data types include:\n",
    "\n",
    "- **int** (for integer)\n",
    "- **float**\n",
    "- **str** (for string)\n",
    "- **list**\n",
    "- **tuple**\n",
    "- **dict** (for dictionary)\n",
    "- **set**\n",
    "- **bool** (for Boolean True/False)"
   ]
  },
  {
   "cell_type": "code",
   "execution_count": 1,
   "metadata": {},
   "outputs": [
    {
     "name": "stdout",
     "output_type": "stream",
     "text": [
      "Type of var = 10 :: <class 'int'>\n"
     ]
    }
   ],
   "source": [
    "var = 10\n",
    "print('Type of var = 10 ::', type(var))"
   ]
  },
  {
   "cell_type": "code",
   "execution_count": 2,
   "metadata": {},
   "outputs": [
    {
     "name": "stdout",
     "output_type": "stream",
     "text": [
      "Type of var = 10.5 :: <class 'float'>\n"
     ]
    }
   ],
   "source": [
    "var = 10.5\n",
    "print('Type of var = 10.5 ::', type(var))"
   ]
  },
  {
   "cell_type": "code",
   "execution_count": 3,
   "metadata": {},
   "outputs": [
    {
     "name": "stdout",
     "output_type": "stream",
     "text": [
      "Type of var = '10' :: <class 'str'>\n"
     ]
    }
   ],
   "source": [
    "var = '10'\n",
    "print(\"Type of var = '10' ::\", type(var))"
   ]
  },
  {
   "cell_type": "code",
   "execution_count": 4,
   "metadata": {},
   "outputs": [
    {
     "name": "stdout",
     "output_type": "stream",
     "text": [
      "Type of var = [10, 20] :: <class 'list'>\n"
     ]
    }
   ],
   "source": [
    "var = [10, 20]\n",
    "print('Type of var = [10, 20] ::', type(var))"
   ]
  },
  {
   "cell_type": "code",
   "execution_count": 5,
   "metadata": {},
   "outputs": [
    {
     "name": "stdout",
     "output_type": "stream",
     "text": [
      "Type of var = (10, 20) :: <class 'tuple'>\n"
     ]
    }
   ],
   "source": [
    "var = (10, 20)\n",
    "print('Type of var = (10, 20) ::', type(var))"
   ]
  },
  {
   "cell_type": "code",
   "execution_count": 6,
   "metadata": {},
   "outputs": [
    {
     "name": "stdout",
     "output_type": "stream",
     "text": [
      "Type of var = {10, 20} :: <class 'set'>\n"
     ]
    }
   ],
   "source": [
    "var = {10, 20}\n",
    "print('Type of var = {10, 20} ::', type(var))"
   ]
  },
  {
   "cell_type": "code",
   "execution_count": 7,
   "metadata": {},
   "outputs": [
    {
     "name": "stdout",
     "output_type": "stream",
     "text": [
      "Type of var = {'a':10, 'b':20} :: <class 'dict'>\n"
     ]
    }
   ],
   "source": [
    "var = {'a':10, 'b':20}\n",
    "print(\"Type of var = {'a':10, 'b':20} ::\", type(var))"
   ]
  },
  {
   "cell_type": "code",
   "execution_count": 8,
   "metadata": {},
   "outputs": [
    {
     "name": "stdout",
     "output_type": "stream",
     "text": [
      "Type of var = True :: <class 'bool'>\n"
     ]
    }
   ],
   "source": [
    "var = True\n",
    "print('Type of var = True ::', type(var))"
   ]
  }
 ],
 "metadata": {
  "kernelspec": {
   "display_name": "Python 3",
   "language": "python",
   "name": "python3"
  },
  "language_info": {
   "codemirror_mode": {
    "name": "ipython",
    "version": 3
   },
   "file_extension": ".py",
   "mimetype": "text/x-python",
   "name": "python",
   "nbconvert_exporter": "python",
   "pygments_lexer": "ipython3",
   "version": "3.7.1"
  }
 },
 "nbformat": 4,
 "nbformat_minor": 2
}
