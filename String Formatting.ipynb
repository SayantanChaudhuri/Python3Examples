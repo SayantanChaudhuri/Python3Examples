{
 "cells": [
  {
   "cell_type": "markdown",
   "metadata": {},
   "source": [
    "## String Formatting"
   ]
  },
  {
   "cell_type": "code",
   "execution_count": 1,
   "metadata": {},
   "outputs": [
    {
     "name": "stdout",
     "output_type": "stream",
     "text": [
      "Welcome, in Python World !!!\n"
     ]
    }
   ],
   "source": [
    "# formatting with Placeholder\n",
    "\n",
    "print('Welcome, in %s World !!!' %'Python')"
   ]
  },
  {
   "cell_type": "code",
   "execution_count": 2,
   "metadata": {},
   "outputs": [
    {
     "name": "stdout",
     "output_type": "stream",
     "text": [
      "Welcome Mr X, in Python World !!!\n"
     ]
    }
   ],
   "source": [
    "# formatting with Multiple Placeholder\n",
    "\n",
    "print('Welcome Mr %s, in %s World !!!' %('X','Python'))"
   ]
  },
  {
   "cell_type": "code",
   "execution_count": 3,
   "metadata": {},
   "outputs": [
    {
     "name": "stdout",
     "output_type": "stream",
     "text": [
      "Welcome in 'Python' World !!!\n"
     ]
    }
   ],
   "source": [
    "# formatting with /r which print the string with quote i.e. 'Python'\n",
    "\n",
    "print('Welcome in %r World !!!' %'Python')"
   ]
  },
  {
   "cell_type": "code",
   "execution_count": 4,
   "metadata": {},
   "outputs": [
    {
     "name": "stdout",
     "output_type": "stream",
     "text": [
      "Welcome in \tPython World !!!\n"
     ]
    }
   ],
   "source": [
    "# formatting with /t which pring tab\n",
    "\n",
    "print('Welcome in %s World !!!' %'\\tPython')"
   ]
  },
  {
   "cell_type": "code",
   "execution_count": 5,
   "metadata": {},
   "outputs": [
    {
     "name": "stdout",
     "output_type": "stream",
     "text": [
      "Apple price is $ 1.25\n",
      "Apple price is $ 1\n",
      "Apple price is $          1\n",
      "Apple price is $ 1.250000\n",
      "Apple price is $ 1.2\n",
      "Apple price is $ 1.25\n",
      "Apple price is $ 1.250\n",
      "Apple price is $      1.250\n"
     ]
    }
   ],
   "source": [
    "# print decomal number in different format\n",
    "\n",
    "print('Apple price is $ %s' %1.25)\n",
    "print('Apple price is $ %d' %1.25)\n",
    "print('Apple price is $ %10d' %1.25) # 10 represents minimum number of character\n",
    "print('Apple price is $ %f' %1.25)\n",
    "print('Apple price is $ %0.1f' %1.25)\n",
    "print('Apple price is $ %0.2f' %1.25) # 2 represents maximum number after decimal point\n",
    "print('Apple price is $ %0.3f' %1.25)\n",
    "print('Apple price is $ %10.3f' %1.25)"
   ]
  },
  {
   "cell_type": "code",
   "execution_count": 6,
   "metadata": {},
   "outputs": [
    {
     "name": "stdout",
     "output_type": "stream",
     "text": [
      "Favourite fruits are Apple, Banana, Strawberry\n",
      "Favourite fruits are Banana, Apple, Strawberry\n",
      "Favourite fruits are Banana, Apple, Strawberry\n"
     ]
    }
   ],
   "source": [
    "# Multiple formatting \n",
    "\n",
    "\n",
    "\n",
    "print('Favourite fruits are {0}, {1}, {2}'.format('Apple', 'Banana', 'Strawberry'))\n",
    "print('Favourite fruits are {1}, {0}, {2}'.format('Apple', 'Banana', 'Strawberry'))\n",
    "print('Favourite fruits are {b}, {a}, {s}'.format(a='Apple', b='Banana', s='Strawberry'))"
   ]
  },
  {
   "cell_type": "code",
   "execution_count": 7,
   "metadata": {},
   "outputs": [
    {
     "name": "stdout",
     "output_type": "stream",
     "text": [
      "Fruit      | Quantity\n",
      "Oranges    |       10\n",
      "Apples     |     1.25\n",
      "Strawberry |    1.750\n"
     ]
    }
   ],
   "source": [
    "# Print in multiple columns\n",
    "\n",
    "print('{0:10} | {1:8}'.format('Fruit', 'Quantity'))\n",
    "print('{0:10} | {1:8}'.format('Oranges', 10))\n",
    "print('{0:10} | {1:8}'.format('Apples', 1.25))\n",
    "print('{0:10} | {1:8.3f}'.format('Strawberry', 1.75))\n"
   ]
  },
  {
   "cell_type": "code",
   "execution_count": 8,
   "metadata": {},
   "outputs": [
    {
     "name": "stdout",
     "output_type": "stream",
     "text": [
      "Left     |  Center  |    Right\n",
      "11       |    22    |       33\n"
     ]
    }
   ],
   "source": [
    "# By default, .format() aligns text to the left, numbers to the right. \n",
    "# An optional <,^, or > can be used to set a left, center or right alignment.\n",
    "\n",
    "print('{0:<8} | {1:^8} | {2:>8}'.format('Left','Center','Right'))\n",
    "print('{0:<8} | {1:^8} | {2:>8}'.format(11,22,33))"
   ]
  },
  {
   "cell_type": "code",
   "execution_count": 9,
   "metadata": {},
   "outputs": [
    {
     "name": "stdout",
     "output_type": "stream",
     "text": [
      "Left==== | -Center- | ...Right\n",
      "11====== | ---22--- | ......33\n"
     ]
    }
   ],
   "source": [
    "# Preceeding alignment operator\n",
    "\n",
    "print('{0:=<8} | {1:-^8} | {2:.>8}'.format('Left','Center','Right'))\n",
    "print('{0:=<8} | {1:-^8} | {2:.>8}'.format(11,22,33))"
   ]
  },
  {
   "cell_type": "markdown",
   "metadata": {},
   "source": [
    "## Formatted String Literals (f-strings)"
   ]
  },
  {
   "cell_type": "code",
   "execution_count": 10,
   "metadata": {},
   "outputs": [
    {
     "name": "stdout",
     "output_type": "stream",
     "text": [
      "His name is John and his age is 10.23\n",
      "His name is 'John' and his age is 10.23000\n"
     ]
    }
   ],
   "source": [
    "name = 'John'\n",
    "age = 10.23\n",
    "print(f\"His name is {name} and his age is {age}\")\n",
    "print(f\"His name is {name!r} and his age is {age:0.5f}\")"
   ]
  }
 ],
 "metadata": {
  "kernelspec": {
   "display_name": "Python 3",
   "language": "python",
   "name": "python3"
  },
  "language_info": {
   "codemirror_mode": {
    "name": "ipython",
    "version": 3
   },
   "file_extension": ".py",
   "mimetype": "text/x-python",
   "name": "python",
   "nbconvert_exporter": "python",
   "pygments_lexer": "ipython3",
   "version": "3.7.1"
  }
 },
 "nbformat": 4,
 "nbformat_minor": 2
}
